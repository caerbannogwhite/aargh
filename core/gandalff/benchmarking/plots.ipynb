{
 "cells": [
  {
   "cell_type": "code",
   "execution_count": null,
   "metadata": {},
   "outputs": [],
   "source": [
    "import matplotlib.pyplot as plt\n",
    "import numpy as np\n",
    "import pandas as pd\n",
    "\n",
    "df = pd.read_csv('data\\\\baseline.csv', sep='\\t')\n",
    "df[\"time_ms\"] = df[\"time_sec\"] * 100000 // 1 / 100"
   ]
  },
  {
   "cell_type": "code",
   "execution_count": null,
   "metadata": {},
   "outputs": [],
   "source": [
    "# bar plots\n",
    "\n",
    "solutions = (\"Gandalff\", \"Pandas\", \"Polars\")\n",
    "in_rows = (10000, 100000, 1000000, 10000000)\n",
    "questions = (\"Q1\", \"Q2\", \"Q3\", \"Q4\", \"Q5\")\n",
    "\n",
    "for rows in in_rows:\n",
    "\n",
    "    x = np.arange(len(questions))  # the label locations\n",
    "    width = 0.15  # the width of the bars\n",
    "    multiplier = 0\n",
    "\n",
    "    fig, ax = plt.subplots(layout='constrained')\n",
    "\n",
    "    for solution in solutions:\n",
    "        times = tuple(df[df.solution == solution.lower()][df.in_rows == rows].sort_values([\"q\"]).time_ms.to_list())\n",
    "        offset = width * multiplier\n",
    "        rects = ax.bar(x + offset, times, width, label=solution)\n",
    "        ax.bar_label(rects, padding=len(questions))\n",
    "        multiplier += 1\n",
    "\n",
    "    rows_exp = f\"{rows:.0E}\".replace(\"+\", \"\")\n",
    "\n",
    "    # Add some text for labels, title and custom x-axis tick labels, etc.\n",
    "    ax.set_ylabel('Time (ms)')\n",
    "    ax.set_title(f'Baseline benchmarking for {rows_exp} rows')\n",
    "    ax.set_xticks(x + width, questions)\n",
    "    ax.legend(loc='upper right', ncols=3)\n",
    "\n",
    "    ax.spines['top'].set_visible(False)\n",
    "    ax.spines['right'].set_visible(False)\n",
    "    \n",
    "    # plt.xkcd()\n",
    "    # plt.savefig(f\"baseline_{rows_exp}.png\", bbox_inches='tight', dpi=300)\n",
    "    plt.show()\n"
   ]
  },
  {
   "cell_type": "code",
   "execution_count": null,
   "metadata": {},
   "outputs": [],
   "source": [
    "# line plots\n",
    "\n",
    "gp = df.groupby([\"in_rows\", \"solution\"]).agg({\"time_ms\":\"mean\"}).reset_index()\n",
    "\n",
    "gandalff = gp[gp.solution == \"gandalff\"][[\"in_rows\", \"time_ms\"]]\n",
    "pandas_ = gp[gp.solution == \"pandas\"][[\"in_rows\", \"time_ms\"]]\n",
    "polars_ = gp[gp.solution == \"polars\"][[\"in_rows\", \"time_ms\"]]\n",
    "\n",
    "in_rows_values = [\"1E04\", \"1E05\", \"1E06\", \"1E07\"]\n",
    "\n",
    "fig, ax = plt.subplots(layout='constrained')\n",
    "\n",
    "# plt.xkcd()\n",
    "\n",
    "ax.plot(in_rows_values, gandalff.time_ms, label=\"Gandalff\")\n",
    "ax.plot(in_rows_values, pandas_.time_ms, label=\"Pandas\")\n",
    "ax.plot(in_rows_values, polars_.time_ms, label=\"Polars\")\n",
    "\n",
    "ax.set_title('Average time per input size')\n",
    "ax.set_xlabel('Input size')\n",
    "ax.set_ylabel('Log Time (ms)')\n",
    "ax.set_yscale(\"log\")\n",
    "ax.legend()\n",
    "\n",
    "ax.spines['top'].set_visible(False)\n",
    "ax.spines['right'].set_visible(False)\n",
    "\n",
    "# plt.savefig(f\"baseline_avg_line.png\", bbox_inches='tight', dpi=300)\n",
    "\n",
    "\n"
   ]
  }
 ],
 "metadata": {
  "kernelspec": {
   "display_name": "Python 3",
   "language": "python",
   "name": "python3"
  },
  "language_info": {
   "codemirror_mode": {
    "name": "ipython",
    "version": 3
   },
   "file_extension": ".py",
   "mimetype": "text/x-python",
   "name": "python",
   "nbconvert_exporter": "python",
   "pygments_lexer": "ipython3",
   "version": "3.11.0"
  },
  "orig_nbformat": 4
 },
 "nbformat": 4,
 "nbformat_minor": 2
}
